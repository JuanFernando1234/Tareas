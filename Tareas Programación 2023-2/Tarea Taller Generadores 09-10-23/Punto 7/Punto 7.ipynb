{
 "cells": [
  {
   "cell_type": "code",
   "execution_count": 4,
   "metadata": {},
   "outputs": [
    {
     "name": "stdout",
     "output_type": "stream",
     "text": [
      "Tuplas\n",
      "('Parrafo 1', 'La casa de los espíritus Resumen  Capítulo 1: Rosa, la bella', 'El numero de caracteres del parrafo son: 60')\n",
      "('Parrafo 2', 'Resumen:', 'El numero de caracteres del parrafo son: 8')\n",
      "('Parrafo 3', 'Es domingo y la familia Del Valle asiste a misa. Nívea y Severo del Valle escuchan el sermón conservador y enardecido del Padre Restrepo junto a sus quince hijos e hijas, entre las que destacan la mayor, Rosa, y la más pequeña, Clara. Esta última se caracteriza por ser una niña delicada, proclive a la sensiblería y dotada de una capacidad sobrenatural que le permite predecir el futuro y hasta mover objetos con el poder de su mente. Como contrapartida, la niña no parece ajustarse a la conducta normal esperable en jovencitos de su edad y suele sufrir de asma y fuertes fiebres como consecuencia de las impresiones que el mundo causa en ella.', 'El numero de caracteres del parrafo son: 645')\n",
      "('Parrafo 4', 'Ese día en la misa, Clara interrumpe al cura con un comentario fuera de lugar y la familia debe abandonar la iglesia en medio de las invectivas del padre Restrepo, que llama a la niña \"endemoniada\". En verdad, sus padres se cuidan mucho de que los poderes de Clara no se conozcan más allá de los muros de su casa, para que la sociedad no la tilde de estar realmente poseída por demonios.', 'El numero de caracteres del parrafo son: 387')\n",
      "('Parrafo 5', 'Los Del Valle son una familia de renombre. Severo es un abogado exitoso que sueña con hacer carrera política y, a pesar de pertenecer a una élite conservadora, es ateo, masón y miembro del Partido Liberal. Nívea lo secunda en sus ambiciones y espera que la carrera política de su marido la coloque a ella en una posición favorable para luchar por el voto femenino. La familia se completa con la presencia de La Nana, una criada indígena que ha estado al servicio de los Del Valle desde el nacimiento de Rosa y se ha encargado de criar a los quince hijos del fecundo matrimonio.', 'El numero de caracteres del parrafo son: 577')\n",
      "('Parrafo 6', 'Un Jueves Santo la familia recibe la noticia de la muerte del Tío Marcos, el hermano más querido de Nívea. Ya habían enterrado al Tío Marcos una vez, cuando su espíritu aventurero e inventor lo había llevado a construir una máquina capaz de volar, la primera que levantó vuelo en Chile. El tío Marcos voló en el aeroplano hasta perderse en el horizonte. Una semana después, unos alpinistas trajeron su cadáver en un ataúd que fue enterrado con profunda tristeza, pero a los pocos días apareció el Tío Marcos por la casa, vivo y con sed de nuevas aventuras. No obstante, esta vez su hermana puede reconocer el cadáver, y la familia se hunde en una profunda tristeza.', 'El numero de caracteres del parrafo son: 665')\n",
      "('Parrafo 7', 'Junto a las pertenencias del fallecido hay un animal exótico que Clara reconoce como un perro, lo adopta y lo llama Barrabás. Pasa el tiempo y el perro crece hasta transformarse en una bestia de proporciones descomunales, casi del tamaño de un caballo, pero con la mansedumbre propia de un cachorro.', 'El numero de caracteres del parrafo son: 299')\n",
      "('Parrafo 8', 'A fines de ese otoño, cuando la familia ya se ha olvidado de la violencia con que el Padre Restrepo quería castigar a Clara, reciben la feliz noticia de que Severo ha sido nombrado como candidato del Partido Liberal en las próximas elecciones. Como felicitaciones, la familia recibe un cerdo y un barril de aguardiente que, calculan, es enviado por sus electores provinciales. Severo se prepara para hacer una gira por la provincia del sur que representará en el Congreso, pero su alegría se ve empañada por la salud delicada de Rosa, su hija mayor, poseedora de una belleza mágica, que no pertenece a este mundo.', 'El numero de caracteres del parrafo son: 613')\n",
      "('Parrafo 9', 'El doctor Cuevas, viejo amigo de la familia, afirma que no se trata más que de una fiebre, recomienda a Rosa hacer reposo y le da de beber aguardiente (del barril recibido como regalo, que hasta el momento no se había probado) para que el calor le ayude a purgar la fiebre de su cuerpo. Sin embargo, la primogénita de los Del Valle muere esa noche. El doctor revisa entonces el aguardiente y lo encuentra envenenado. En el clima de desesperación y tristeza que invade a la familia, Severo se culpa por la muerte de su hija, ya que ese veneno estaba destinado a él. Promete entonces no volver a participar en política.', 'El numero de caracteres del parrafo son: 617')\n",
      "('Parrafo 10', 'Al funeral de Rosa acuden todos los familiares y amigos. Entre ellos se encuentra Esteban Trueba, el prometido de la difunta, un joven taciturno de pocos recursos que se ha pasado los últimos dos años desarrollando la minería con el objetivo de hacerse rico con el oro de las montañas y poder así brindarle una vida de lujo al amor de su vida. Es tan profundo el dolor de Esteban que piensa que ya no volverá a ser feliz. No obstante, a pesar de esta sentencia, la más afectada por la muerte de Rosa es su hermana, Clara, quien enmudece y no volverá a decir una sola palabra en los siete años siguientes.\\n', 'El numero de caracteres del parrafo son: 605')\n",
      "\n",
      "\n",
      "Un Jueves Santo la familia recibe la noticia de la muerte del Tío Marcos, el hermano más querido de Nívea. Ya habían enterrado al Tío Marcos una vez, cuando su espíritu aventurero e inventor lo había llevado a construir una máquina capaz de volar, la primera que levantó vuelo en Chile. El tío Marcos voló en el aeroplano hasta perderse en el horizonte. Una semana después, unos alpinistas trajeron su cadáver en un ataúd que fue enterrado con profunda tristeza, pero a los pocos días apareció el Tío Marcos por la casa, vivo y con sed de nuevas aventuras. No obstante, esta vez su hermana puede reconocer el cadáver, y la familia se hunde en una profunda tristeza.\n",
      "Es domingo y la familia Del Valle asiste a misa. Nívea y Severo del Valle escuchan el sermón conservador y enardecido del Padre Restrepo junto a sus quince hijos e hijas, entre las que destacan la mayor, Rosa, y la más pequeña, Clara. Esta última se caracteriza por ser una niña delicada, proclive a la sensiblería y dotada de una capacidad sobrenatural que le permite predecir el futuro y hasta mover objetos con el poder de su mente. Como contrapartida, la niña no parece ajustarse a la conducta normal esperable en jovencitos de su edad y suele sufrir de asma y fuertes fiebres como consecuencia de las impresiones que el mundo causa en ella.\n",
      "El doctor Cuevas, viejo amigo de la familia, afirma que no se trata más que de una fiebre, recomienda a Rosa hacer reposo y le da de beber aguardiente (del barril recibido como regalo, que hasta el momento no se había probado) para que el calor le ayude a purgar la fiebre de su cuerpo. Sin embargo, la primogénita de los Del Valle muere esa noche. El doctor revisa entonces el aguardiente y lo encuentra envenenado. En el clima de desesperación y tristeza que invade a la familia, Severo se culpa por la muerte de su hija, ya que ese veneno estaba destinado a él. Promete entonces no volver a participar en política.\n",
      "A fines de ese otoño, cuando la familia ya se ha olvidado de la violencia con que el Padre Restrepo quería castigar a Clara, reciben la feliz noticia de que Severo ha sido nombrado como candidato del Partido Liberal en las próximas elecciones. Como felicitaciones, la familia recibe un cerdo y un barril de aguardiente que, calculan, es enviado por sus electores provinciales. Severo se prepara para hacer una gira por la provincia del sur que representará en el Congreso, pero su alegría se ve empañada por la salud delicada de Rosa, su hija mayor, poseedora de una belleza mágica, que no pertenece a este mundo.\n",
      "Al funeral de Rosa acuden todos los familiares y amigos. Entre ellos se encuentra Esteban Trueba, el prometido de la difunta, un joven taciturno de pocos recursos que se ha pasado los últimos dos años desarrollando la minería con el objetivo de hacerse rico con el oro de las montañas y poder así brindarle una vida de lujo al amor de su vida. Es tan profundo el dolor de Esteban que piensa que ya no volverá a ser feliz. No obstante, a pesar de esta sentencia, la más afectada por la muerte de Rosa es su hermana, Clara, quien enmudece y no volverá a decir una sola palabra en los siete años siguientes.\n",
      "\n"
     ]
    }
   ],
   "source": [
    "class Lectura: # Declararamos la clase llamada lectura\n",
    "    def __init__(self): #Nuestro constructor y no tiene parametros\n",
    "        self.Parrafos = []\n",
    "    def read(self):\n",
    "       with open(\"La casa de los espiritus capitulo 1-Resumen.txt\", \"r\", encoding=\"utf-8\") as archivo: # esta funcion trae al archivo. encoding=\"utf-8\", encoding sirve para darle una forma de codificacion al texto y utf-8 es la forma particula que le sirve al español, pues esta predetermido en ingles y si tengo tildes, me van a aparecer caracteres raros\n",
    "           Isabel=archivo.read() #Permite que la funcion read se ejecute dentro de read. Cuando vea Isabel va a leer el contenido del archivo\n",
    "           self.Parrafos=Isabel.split(\"\\n\\n\")#cuando se usa el metodo split el parrafo sale en forma de lista. #Isabel.split(\"\\n\\n\") aqui ella separa cada parrafo por salto de linea\n",
    "           return self.Parrafos \n",
    "    def Tuplas(self):\n",
    "        Tuplas=[]\n",
    "        for i in range(len(self.Parrafos)):\n",
    "               Numero_Parrafo=i+1\n",
    "               Contenido_Parrafo=self.Parrafos[i] \n",
    "               Longitud_Parrafo=len(self.Parrafos[i])\n",
    "               Tuplas.append((f\"Parrafo {Numero_Parrafo}\",Contenido_Parrafo,f\"El numero de caracteres del parrafo son: {Longitud_Parrafo}\"))\n",
    "        return(Tuplas)\n",
    "    def Parrafo_Mayor(self,N):\n",
    "        parrafos_ordenados=sorted(self.Parrafos, key=len,reverse=True) #el metodo sorted ordena listas de menor a mayor dependiendo de un parametro;en nuestro caso es la longitud\n",
    "        Mayores=parrafos_ordenados[:N] #el \":\" significa que el rango de datos seran desde el de la parte izquierda o es su defecto 0 hasta N, parte derecha del \":\"\n",
    "        return Mayores\n",
    "lectura=Lectura() #lectura es un objeto de la clase Lectura\n",
    "Contenido=lectura.read()\n",
    "tuplas=lectura.Tuplas()\n",
    "print(\"Tuplas\")\n",
    "for i in tuplas:\n",
    "    print(i)\n",
    "N= int(input(\"ingrese el valor N: \"))\n",
    "mayor=lectura.Parrafo_Mayor(N)\n",
    "print(\"\\n\")\n",
    "for i in mayor:\n",
    "    print(i)"
   ]
  }
 ],
 "metadata": {
  "kernelspec": {
   "display_name": "Python 3",
   "language": "python",
   "name": "python3"
  },
  "language_info": {
   "codemirror_mode": {
    "name": "ipython",
    "version": 3
   },
   "file_extension": ".py",
   "mimetype": "text/x-python",
   "name": "python",
   "nbconvert_exporter": "python",
   "pygments_lexer": "ipython3",
   "version": "3.12.0"
  }
 },
 "nbformat": 4,
 "nbformat_minor": 2
}
