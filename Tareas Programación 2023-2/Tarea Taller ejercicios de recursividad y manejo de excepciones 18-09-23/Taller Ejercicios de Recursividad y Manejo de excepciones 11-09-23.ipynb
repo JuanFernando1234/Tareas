{
  "cells": [
    {
      "cell_type": "code",
      "execution_count": null,
      "metadata": {
        "colab": {
          "base_uri": "https://localhost:8080/"
        },
        "id": "UhbgjwIGKebx",
        "outputId": "80a68df0-0746-48bf-db6a-07c2aa66b3c1"
      },
      "outputs": [
        {
          "name": "stdout",
          "output_type": "stream",
          "text": [
            "Ingrese un numero3\n",
            "6\n"
          ]
        }
      ],
      "source": [
        "# Función recursive para sumar números\n",
        "\n",
        "def Suma_de_numeros(n):\n",
        "   if n == 0:\n",
        "     return 0\n",
        "   else:\n",
        "     return n+Suma_de_numeros(n-1)\n",
        "n=int(input(\"Ingrese un numero\"))\n",
        "resultado = Suma_de_numeros(n)\n",
        "\n",
        "print(resultado)"
      ]
    },
    {
      "cell_type": "code",
      "execution_count": null,
      "metadata": {
        "colab": {
          "base_uri": "https://localhost:8080/"
        },
        "id": "XX2euAtZOg3N",
        "outputId": "a6eda576-a58d-40c5-f2ff-5f662c57800f"
      },
      "outputs": [
        {
          "name": "stdout",
          "output_type": "stream",
          "text": [
            "Ingrese un número de base: 0\n",
            "Ingrese la potencia: 0\n",
            "El resultado es: 1\n"
          ]
        }
      ],
      "source": [
        "# Funcion recursiva para sacar la potencia de un numero\n",
        "\n",
        "def potencia_de_numeros(n,m):\n",
        "\n",
        "  if m == 0:\n",
        "    return 1\n",
        "\n",
        "  else:\n",
        "    return n*potencia_de_numeros(n,m-1)\n",
        "n = int(input(\"Ingrese un número de base: \"))\n",
        "m = int(input(\"Ingrese la potencia: \"))\n",
        "resultado = potencia_de_numeros(n,m)\n",
        "print(\"El resultado es:\", resultado)"
      ]
    },
    {
      "cell_type": "code",
      "execution_count": null,
      "metadata": {
        "colab": {
          "base_uri": "https://localhost:8080/"
        },
        "id": "MrZlAMymP5Qv",
        "outputId": "e2436d8a-feff-492f-8707-91afe87a94b1"
      },
      "outputs": [
        {
          "name": "stdout",
          "output_type": "stream",
          "text": [
            "Ingrese un numero5\n",
            "[0, 1, 1, 2, 3, 5]\n"
          ]
        }
      ],
      "source": [
        "#Forma1--> Función recursiva para guardar sucesión de Fibonacci hasta un N en una lista\n",
        "\n",
        "def sucesion_de_Fibonacci(n):\n",
        "    if n < 0:\n",
        "        return []\n",
        "    elif n == 0:\n",
        "        return [0]\n",
        "    elif n == 1:\n",
        "        return [0, 1]\n",
        "    else:\n",
        "        lista_fibonacci = sucesion_de_Fibonacci(n - 1)\n",
        "        lista_fibonacci.append( lista_fibonacci[-1] +  lista_fibonacci[-2])\n",
        "        return  lista_fibonacci\n",
        "n=int(input(\"Ingrese un numero\"))\n",
        "resultado = sucesión_de_Fibonacci(n)\n",
        "\n",
        "print(resultado)"
      ]
    },
    {
      "cell_type": "code",
      "execution_count": null,
      "metadata": {
        "colab": {
          "base_uri": "https://localhost:8080/"
        },
        "id": "9i971qO6_T-k",
        "outputId": "ceabff38-57ee-484a-b9ae-605343a97e8a"
      },
      "outputs": [
        {
          "name": "stdout",
          "output_type": "stream",
          "text": [
            "numero hasta el cual se desea calcular la suseción: 5\n",
            "0\n",
            "1\n",
            "1\n",
            "2\n",
            "3\n"
          ]
        }
      ],
      "source": [
        "#Forma2--> Función recursiva para guardar sucesión de Fibonacci hasta un N en una lista\n",
        "def sucesion_fibo(n):\n",
        "    if n ==0 or n==1:\n",
        "     return n\n",
        "    else :\n",
        "       return sucesion_fibo(n-1) + sucesion_fibo(n-2)\n",
        "\n",
        "n = int(input(\"numero hasta el cual se desea calcular la suseción: \"))\n",
        "\n",
        "for j in range(n):\n",
        "   resultado = sucesion_fibo(j)\n",
        "   print(resultado)"
      ]
    },
    {
      "cell_type": "code",
      "execution_count": null,
      "metadata": {
        "colab": {
          "base_uri": "https://localhost:8080/"
        },
        "id": "s09DC7qLC0zD",
        "outputId": "13d5bc98-02c5-4878-f674-bcd47858e8d4"
      },
      "outputs": [
        {
          "name": "stdout",
          "output_type": "stream",
          "text": [
            "Ingrese una lista[1,2,[3,4],[5,6],[[7,8],[9,10]]]\n",
            "La suma de los números en la lista anidada es: 55\n",
            "55\n"
          ]
        }
      ],
      "source": [
        "#Función recursiva para sumar números de la forma [1,2,[3,4],[5,6],[[7,8],[9,10]]]\n",
        "\n",
        "def suma_lista(lista):\n",
        "  suma = 0\n",
        "  for elemento in lista:\n",
        "    if isinstance(elemento, list):\n",
        "      suma = suma + suma_lista(elemento)\n",
        "    else:\n",
        "      suma = suma + elemento\n",
        "  return suma\n",
        "\n",
        "entrada = input(\"Ingrese una lista\")\n",
        "\n",
        "try:\n",
        "    lista = eval(entrada)\n",
        "    resultado = suma_lista(lista)\n",
        "    print(\"La suma de los números en la lista anidada es:\", resultado)\n",
        "except (NameError, SyntaxError):\n",
        "    print(\"La entrada no es válida. Asegúrate de usar el formato correcto.\")\n",
        "print(resultado)"
      ]
    },
    {
      "cell_type": "code",
      "execution_count": null,
      "metadata": {
        "colab": {
          "base_uri": "https://localhost:8080/"
        },
        "id": "fNaZr2-uV_KF",
        "outputId": "cfc78fdb-73e9-4fc7-ca99-8745433c3f60"
      },
      "outputs": [
        {
          "name": "stdout",
          "output_type": "stream",
          "text": [
            "Ingrese el polinomio en X: x^5\n",
            "La derivada del polinomio es: 5x^4\n"
          ]
        }
      ],
      "source": [
        "#Escriba un programa que reciba un polinomio en x y de su derivada. Arroje un error en caso de que el polinomio esté mal escrito\n",
        "def derivar_termino(termino):\n",
        "    partes = termino.split('x')\n",
        "    coeficiente = int(partes[0]) if partes[0] else 1\n",
        "    exponente = int(partes[1][1:]) if len(partes) > 1 else 1\n",
        "    nuevo_coeficiente = coeficiente * exponente\n",
        "    nuevo_exponente = exponente - 1\n",
        "    if nuevo_exponente == 0:\n",
        "        return str(nuevo_coeficiente)\n",
        "    elif nuevo_exponente == 1:\n",
        "        return f\"{nuevo_coeficiente}x\"\n",
        "    else:\n",
        "        return f\"{nuevo_coeficiente}x^{nuevo_exponente}\"\n",
        "\n",
        "def calcular_derivada(polinomio):\n",
        "    terminos = polinomio.split('+')\n",
        "    derivada_terminos = [derivar_termino(termino) for termino in terminos]\n",
        "    derivada = '+'.join(derivada_terminos)\n",
        "    return derivada\n",
        "\n",
        "# Solicitar al usuario ingresar el polinomio en X\n",
        "polinomio = input(\"Ingrese el polinomio en X: \")\n",
        "\n",
        "# Calcular y mostrar la derivada\n",
        "derivada = calcular_derivada(polinomio)\n",
        "print(\"La derivada del polinomio es:\", derivada)\n"
      ]
    }
  ],
  "metadata": {
    "colab": {
      "provenance": []
    },
    "kernelspec": {
      "display_name": "Python 3",
      "name": "python3"
    },
    "language_info": {
      "name": "python"
    }
  },
  "nbformat": 4,
  "nbformat_minor": 0
}
