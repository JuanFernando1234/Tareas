{
 "cells": [
  {
   "cell_type": "markdown",
   "metadata": {},
   "source": [
    "Parcial 2 Programacion"
   ]
  },
  {
   "cell_type": "markdown",
   "metadata": {},
   "source": [
    "Punto 1"
   ]
  },
  {
   "cell_type": "code",
   "execution_count": 7,
   "metadata": {},
   "outputs": [
    {
     "data": {
      "text/html": [
       "<div>\n",
       "<style scoped>\n",
       "    .dataframe tbody tr th:only-of-type {\n",
       "        vertical-align: middle;\n",
       "    }\n",
       "\n",
       "    .dataframe tbody tr th {\n",
       "        vertical-align: top;\n",
       "    }\n",
       "\n",
       "    .dataframe thead th {\n",
       "        text-align: right;\n",
       "    }\n",
       "</style>\n",
       "<table border=\"1\" class=\"dataframe\">\n",
       "  <thead>\n",
       "    <tr style=\"text-align: right;\">\n",
       "      <th></th>\n",
       "      <th>Tipo de Conductor</th>\n",
       "      <th>Longitud</th>\n",
       "      <th>Diámetro</th>\n",
       "      <th>Resistencia</th>\n",
       "      <th>Voltaje</th>\n",
       "      <th>Temperatura</th>\n",
       "      <th>Precio</th>\n",
       "    </tr>\n",
       "  </thead>\n",
       "  <tbody>\n",
       "    <tr>\n",
       "      <th>0</th>\n",
       "      <td>Aislante</td>\n",
       "      <td>26.888912</td>\n",
       "      <td>0.111400</td>\n",
       "      <td>1.458670</td>\n",
       "      <td>1422.569199</td>\n",
       "      <td>52.072901</td>\n",
       "      <td>97.096089</td>\n",
       "    </tr>\n",
       "    <tr>\n",
       "      <th>1</th>\n",
       "      <td>NaN</td>\n",
       "      <td>14.785256</td>\n",
       "      <td>0.221520</td>\n",
       "      <td>0.502248</td>\n",
       "      <td>3705.724876</td>\n",
       "      <td>NaN</td>\n",
       "      <td>59.861614</td>\n",
       "    </tr>\n",
       "    <tr>\n",
       "      <th>2</th>\n",
       "      <td>Aislado</td>\n",
       "      <td>52.205565</td>\n",
       "      <td>0.284866</td>\n",
       "      <td>3.467210</td>\n",
       "      <td>7451.990686</td>\n",
       "      <td>105.936272</td>\n",
       "      <td>3.926117</td>\n",
       "    </tr>\n",
       "    <tr>\n",
       "      <th>3</th>\n",
       "      <td>Aislado</td>\n",
       "      <td>65.656012</td>\n",
       "      <td>0.377623</td>\n",
       "      <td>8.289939</td>\n",
       "      <td>9145.573225</td>\n",
       "      <td>NaN</td>\n",
       "      <td>85.148302</td>\n",
       "    </tr>\n",
       "    <tr>\n",
       "      <th>4</th>\n",
       "      <td>AISLANTE</td>\n",
       "      <td>92.832302</td>\n",
       "      <td>0.322466</td>\n",
       "      <td>6.594805</td>\n",
       "      <td>11500.934955</td>\n",
       "      <td>80.904003</td>\n",
       "      <td>85.497973</td>\n",
       "    </tr>\n",
       "    <tr>\n",
       "      <th>...</th>\n",
       "      <td>...</td>\n",
       "      <td>...</td>\n",
       "      <td>...</td>\n",
       "      <td>...</td>\n",
       "      <td>...</td>\n",
       "      <td>...</td>\n",
       "      <td>...</td>\n",
       "    </tr>\n",
       "    <tr>\n",
       "      <th>2199994</th>\n",
       "      <td>Aislado</td>\n",
       "      <td>42.471320</td>\n",
       "      <td>0.248626</td>\n",
       "      <td>3.317809</td>\n",
       "      <td>10515.343291</td>\n",
       "      <td>NaN</td>\n",
       "      <td>1.744010</td>\n",
       "    </tr>\n",
       "    <tr>\n",
       "      <th>2199995</th>\n",
       "      <td>aislante</td>\n",
       "      <td>71.692504</td>\n",
       "      <td>NaN</td>\n",
       "      <td>0.385026</td>\n",
       "      <td>7547.629776</td>\n",
       "      <td>119.711519</td>\n",
       "      <td>58.376168</td>\n",
       "    </tr>\n",
       "    <tr>\n",
       "      <th>2199996</th>\n",
       "      <td>Aislado</td>\n",
       "      <td>45.700232</td>\n",
       "      <td>0.012407</td>\n",
       "      <td>4.610556</td>\n",
       "      <td>4732.876069</td>\n",
       "      <td>47.174959</td>\n",
       "      <td>88.234990</td>\n",
       "    </tr>\n",
       "    <tr>\n",
       "      <th>2199998</th>\n",
       "      <td>NaN</td>\n",
       "      <td>85.032447</td>\n",
       "      <td>0.275617</td>\n",
       "      <td>8.131677</td>\n",
       "      <td>6024.561746</td>\n",
       "      <td>NaN</td>\n",
       "      <td>48.183337</td>\n",
       "    </tr>\n",
       "    <tr>\n",
       "      <th>2199999</th>\n",
       "      <td>CONDUCTOR</td>\n",
       "      <td>16.464403</td>\n",
       "      <td>0.117340</td>\n",
       "      <td>8.228699</td>\n",
       "      <td>11593.620767</td>\n",
       "      <td>-19.684594</td>\n",
       "      <td>99.744632</td>\n",
       "    </tr>\n",
       "  </tbody>\n",
       "</table>\n",
       "<p>1979769 rows × 7 columns</p>\n",
       "</div>"
      ],
      "text/plain": [
       "        Tipo de Conductor   Longitud  Diámetro  Resistencia       Voltaje  \\\n",
       "0                Aislante  26.888912  0.111400     1.458670   1422.569199   \n",
       "1                     NaN  14.785256  0.221520     0.502248   3705.724876   \n",
       "2                 Aislado  52.205565  0.284866     3.467210   7451.990686   \n",
       "3                 Aislado  65.656012  0.377623     8.289939   9145.573225   \n",
       "4                AISLANTE  92.832302  0.322466     6.594805  11500.934955   \n",
       "...                   ...        ...       ...          ...           ...   \n",
       "2199994           Aislado  42.471320  0.248626     3.317809  10515.343291   \n",
       "2199995          aislante  71.692504       NaN     0.385026   7547.629776   \n",
       "2199996           Aislado  45.700232  0.012407     4.610556   4732.876069   \n",
       "2199998               NaN  85.032447  0.275617     8.131677   6024.561746   \n",
       "2199999         CONDUCTOR  16.464403  0.117340     8.228699  11593.620767   \n",
       "\n",
       "         Temperatura     Precio  \n",
       "0          52.072901  97.096089  \n",
       "1                NaN  59.861614  \n",
       "2         105.936272   3.926117  \n",
       "3                NaN  85.148302  \n",
       "4          80.904003  85.497973  \n",
       "...              ...        ...  \n",
       "2199994          NaN   1.744010  \n",
       "2199995   119.711519  58.376168  \n",
       "2199996    47.174959  88.234990  \n",
       "2199998          NaN  48.183337  \n",
       "2199999   -19.684594  99.744632  \n",
       "\n",
       "[1979769 rows x 7 columns]"
      ]
     },
     "metadata": {},
     "output_type": "display_data"
    }
   ],
   "source": [
    "#1. (0.5 Puntos) Dado el DataFrame df que contiene datos sobre conductores\n",
    "#y materiales, escribe codigo en Pandas para eliminar todas las filas con\n",
    "#valores nulos en la columna “Longitud”.\n",
    "\n",
    "import pandas as pd\n",
    "df = pd.read_csv (\"Materiales.csv\",sep=\",\")\n",
    "display(df.dropna(subset=[\"Longitud\"]))\n"
   ]
  },
  {
   "cell_type": "markdown",
   "metadata": {},
   "source": [
    "Punto 2"
   ]
  },
  {
   "cell_type": "code",
   "execution_count": 27,
   "metadata": {},
   "outputs": [
    {
     "name": "stdout",
     "output_type": "stream",
     "text": [
      "Columna Longitud, Valor maximo: 100.00, Valor minimo: 0.00, Promedio: 45.02\n",
      "Columna Diámetro, Valor maximo: 0.50, Valor minimo: 0.00, Promedio: 0.23\n",
      "Columna Resistencia, Valor maximo: 10.00, Valor minimo: 0.00, Promedio: 4.51\n",
      "Columna Voltaje, Valor maximo: 13199.99, Valor minimo: 0.00, Promedio: 6036.46\n",
      "Columna Temperatura, Valor maximo: 150.00, Valor minimo: -50.00, Promedio: 44.97\n",
      "Columna Precio, Valor maximo: 100.00, Valor minimo: 0.00, Promedio: 45.42\n"
     ]
    }
   ],
   "source": [
    "#2. (0.5 Puntos) Utiliza Pandas para calcular el promedio, valor maximo,\n",
    "#valor minimo y desviacion estandar de cada columna en el DataFrame df\n",
    "#y redondea el resultado a 2 decimales.\n",
    "\n",
    "import pandas as pd\n",
    "df = pd.read_csv (\"Materiales.csv\",sep=\",\")\n",
    "\n",
    "columnas_especificas = [\"Longitud\",\"Diámetro\",\"Resistencia\", \"Voltaje\",\"Temperatura\",\"Precio\"]\n",
    "valores_de_relleno = {col: 0 for col in columnas_especificas}\n",
    "Materiales=df.fillna(valores_de_relleno, inplace=True)\n",
    "\n",
    "\n",
    "#Valor_Max = df[\"Longitud\"].max()\n",
    "#Valor_Min = df[\"Longitud\"].min() \n",
    "#Promedio = df[\"Longitud\"].mean()\n",
    "\n",
    "#print(Valor_Max,Valor_Min,Promedio)\n",
    "#\"Tipo de Conductor\",\"Longitud\",\"Diámetro\",\"Resistencia\", \"Voltaje\",\"Temperatura\",\"Precio\"\n",
    "resultados=[]\n",
    "\n",
    "for i in columnas_especificas:\n",
    "        Valor_Max = df[i].max()\n",
    "        Valor_Min = df[i].min()\n",
    "        Promedio = df[i].mean()\n",
    "        resultados.append([i, Valor_Max, Valor_Min, Promedio])\n",
    "\n",
    "for resultado in resultados:\n",
    "    print(f\"Columna {resultado[0]}, Valor maximo: {resultado[1]:.2f}, Valor minimo: {resultado[2]:.2f}, Promedio: {resultado[3]:.2f}\")\n"
   ]
  },
  {
   "cell_type": "markdown",
   "metadata": {},
   "source": [
    "Punto 3"
   ]
  },
  {
   "cell_type": "code",
   "execution_count": 31,
   "metadata": {},
   "outputs": [
    {
     "data": {
      "text/plain": [
       "array(['Aislante', 0, 'Aislado', 'AISLANTE', 'aislamte', 'condctor',\n",
       "       'semiconductor', 'SEMICONDUCTOR', 'Conductor', 'semicondugctor',\n",
       "       'CONDUCTOR', 'aislante', 'conductor', 'semi'], dtype=object)"
      ]
     },
     "metadata": {},
     "output_type": "display_data"
    },
    {
     "data": {
      "text/plain": [
       "array(['AISLANTE', nan, 'CONDUCTOR', 'SEMICONDUCTOR'], dtype=object)"
      ]
     },
     "metadata": {},
     "output_type": "display_data"
    }
   ],
   "source": [
    "#3. (1.0 Punto) Supongamos que deseas unificar las categorias similares en la\n",
    "#columna ”Tipo de Conductor”. Escribe codigo en Pandas para unificar las\n",
    "#categorıas en ”CONDUCTOR”, ”AISLANTE” y ”SEMICONDUCTOR”.\n",
    "import pandas as pd\n",
    "df = pd.read_csv (\"Materiales.csv\",sep=\",\")\n",
    "\n",
    "columnas_especificas = [\"Tipo de Conductor\"]\n",
    "valores_de_relleno = {col: 0 for col in columnas_especificas}\n",
    "Materiales=df.fillna(valores_de_relleno, inplace=True)\n",
    "\n",
    "\n",
    "Tipo=df[\"Tipo de Conductor\"].unique()\n",
    "display(Tipo)\n",
    "\n",
    "tipo={\"Aislante\":\"AISLANTE\",\"Aislado\":\"AISLANTE\",\"AISLANTE\":\"AISLANTE\",\"aislamte\":\"AISLANTE\",\"condctor\":\"CONDUCTOR\",\"semiconductor\":\"SEMICONDUCTOR\",\"SEMICONDUCTOR\":\"SEMICONDUCTOR\",\"Conductor\":\"CONDUCTOR\",\"semicondugctor\":\"SEMICONDUCTOR\",\"CONDUCTOR\":\"CONDUCTOR\",\"aislante\":\"AISLANTE\",\"conductor\":\"CONDUCTOR\",\"semi\":\"SEMICONDUCTOR\"}\n",
    "df[\"Tipo de Conductor\"] = df[\"Tipo de Conductor\"].map(tipo)\n",
    "Tipo = df[\"Tipo de Conductor\"].unique()\n",
    "display(Tipo)\n"
   ]
  },
  {
   "cell_type": "markdown",
   "metadata": {},
   "source": [
    "Punto 4"
   ]
  },
  {
   "cell_type": "code",
   "execution_count": 45,
   "metadata": {},
   "outputs": [
    {
     "name": "stdout",
     "output_type": "stream",
     "text": [
      "Las resistencias son:  [1.46 0.5  3.47 ... 9.89 8.13 8.23]\n",
      "Los diametros son:  [0.11 0.22 0.28 ... 0.31 0.28 0.12]\n",
      "El producto escalar de la resistencia por el diametro es:  [0.16 0.11 0.99 ... 3.11 2.24 0.97]\n"
     ]
    }
   ],
   "source": [
    "#Utiliza NumPy para calcular el producto escalar entre los\n",
    "#arreglos resistencias y diametros. Luego, redondea el resultado a 2\n",
    "#decimales.\n",
    "import pandas as pd\n",
    "import numpy as np\n",
    "df = pd.read_csv (\"Materiales.csv\",sep=\",\")\n",
    "columnas_especificas = [\"Diámetro\",\"Resistencia\"]\n",
    "valores_de_relleno = {col: 0 for col in columnas_especificas}\n",
    "Materiales=df.fillna(valores_de_relleno, inplace=True)\n",
    "\n",
    "resistencias = np.array(df[\"Resistencia\"])\n",
    "diametros = np.array(df[\"Diámetro\"])\n",
    "\n",
    "\n",
    "producto_escalar = resistencias*diametros\n",
    "\n",
    "print(\"Las resistencias son: \",np.round(resistencias, 2))\n",
    "print(\"Los diametros son: \",np.round(diametros, 2) )\n",
    "\n",
    "print(\"El producto escalar de la resistencia por el diametro es: \",np.round(producto_escalar, 2)  )"
   ]
  },
  {
   "cell_type": "markdown",
   "metadata": {},
   "source": [
    "Punto 7"
   ]
  },
  {
   "cell_type": "code",
   "execution_count": 63,
   "metadata": {},
   "outputs": [
    {
     "name": "stdout",
     "output_type": "stream",
     "text": [
      "Solución del sistema Ax = b:\n",
      "[ -1.43898176   1.22428093  -8.83158808  -5.46770426  -2.3537596\n",
      "   0.93634233  -2.31751811   0.95889647   2.44224787   0.39295762\n",
      "  -2.23055843   3.14627243   0.42800402   1.32510625  -0.35034575\n",
      "  -4.59038622   2.32887833  -1.74001689   1.19919128  -0.92842377\n",
      "  -4.22833126   3.27001531  -3.30400057   0.85394821   5.92194858\n",
      "   4.08198652  -2.25459238   2.09968178  -3.98224799   2.52908602\n",
      "   1.3981264    1.33077221   1.44559866  -3.64146187   0.46832823\n",
      "  -6.34930119   2.87905193   3.34179766  -4.23716835   2.76401299\n",
      "  -3.19164489  -2.72570347  -0.51918201   2.76106633   9.86221872\n",
      "  -0.81598201  -0.71965823  -1.30711046   5.32925684   1.37234491\n",
      "   5.29515168  -1.34309836  -0.01205636  -0.22274435   0.4135349\n",
      "   2.01873772  -1.18418139  -3.3608947    0.30481487   0.03811426\n",
      "   3.16167335   4.26707182  -1.22694625   3.91707421   0.16655746\n",
      "   1.41420188   4.04961935  -0.68299261   1.31615266   0.71114708\n",
      "  -0.61581093  -3.08488189 -10.02752494   0.1964003    1.50075534\n",
      "  -0.98579549   1.85856718  -0.69554851   0.85313318   0.2253089\n",
      "  -0.2929682    0.89723253  -1.70675442  -3.86033698  -0.19229894\n",
      "   1.54645336  -0.71926302  -2.92007755  -1.97707112   3.46508547\n",
      "  -0.04536394   3.27863184  -3.53302209  -3.52365084  -2.29522551\n",
      "   4.10367792   1.8752686    0.24683043   1.13682636   2.16846023]\n",
      "Inversa de A:\n",
      "[[ 2.03152318e-01  4.91383686e-01 -3.17029527e-01 ...  3.02654491e-01\n",
      "  -7.10693884e-01  4.58101766e-02]\n",
      " [ 1.48339909e-01 -1.78672313e-01  2.56539174e-01 ... -8.13447285e-02\n",
      "   2.10023509e-01 -2.39243219e-01]\n",
      " [-6.72206251e-01  9.15575708e-01 -2.10191348e+00 ... -3.66681639e-01\n",
      "  -1.27095408e+00  1.39047265e-01]\n",
      " ...\n",
      " [-3.55285980e-01 -2.87122537e-01 -9.64124814e-02 ... -1.32583151e-01\n",
      "   4.71042330e-01 -1.53449197e-01]\n",
      " [ 2.70180870e-01 -5.26651945e-01 -1.96282998e-03 ... -2.89569897e-01\n",
      "   6.47277636e-01 -8.74944402e-02]\n",
      " [-3.53903352e-01 -2.71487202e-01  8.72299814e-01 ... -7.72181594e-02\n",
      "   4.66647505e-01  4.48937248e-02]]\n"
     ]
    }
   ],
   "source": [
    "import numpy as np\n",
    "from scipy.linalg import inv\n",
    "\n",
    "#Matriz\n",
    "A = np.random.rand(100, 100)\n",
    "b = np.random.rand(100)\n",
    "x = np.linalg.solve(A, b)\n",
    "\n",
    "#Inversa\n",
    "try:\n",
    "    A_inv = inv(A)\n",
    "except np.linalg.LinAlgError:\n",
    "    A_inv = \"La matriz no es invertible\"\n",
    "\n",
    "# Imprimir los resultados\n",
    "print(\"Solución del sistema Ax = b:\")\n",
    "print(x)\n",
    "\n",
    "print(\"Inversa de A:\")\n",
    "print(A_inv)\n",
    "\n",
    "# Falto :(\n",
    "\n",
    "\n",
    "\n"
   ]
  }
 ],
 "metadata": {
  "kernelspec": {
   "display_name": "Python 3",
   "language": "python",
   "name": "python3"
  },
  "language_info": {
   "codemirror_mode": {
    "name": "ipython",
    "version": 3
   },
   "file_extension": ".py",
   "mimetype": "text/x-python",
   "name": "python",
   "nbconvert_exporter": "python",
   "pygments_lexer": "ipython3",
   "version": "3.12.0"
  }
 },
 "nbformat": 4,
 "nbformat_minor": 2
}
