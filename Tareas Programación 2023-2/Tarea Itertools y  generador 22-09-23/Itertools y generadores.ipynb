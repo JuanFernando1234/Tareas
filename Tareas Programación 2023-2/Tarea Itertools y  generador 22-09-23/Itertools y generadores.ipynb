{
 "cells": [
  {
   "cell_type": "code",
   "execution_count": 4,
   "metadata": {},
   "outputs": [
    {
     "name": "stdout",
     "output_type": "stream",
     "text": [
      "-1.0\n",
      "1.0\n",
      "3.0\n",
      "5.0\n",
      "7.0\n",
      "9.0\n",
      "11.0\n",
      "13.0\n",
      "15.0\n",
      "17.0\n"
     ]
    }
   ],
   "source": [
    "from itertools import count\n",
    "\n",
    "def movimiento_armo_simple(amplitud, frecuencia_angular, fase_inicial):\n",
    "    \"\"\"\n",
    "    Genera los desplazamientos en el tiempo para el movimiento armónico simple.\n",
    "\n",
    "    Parametros:\n",
    "        - amplitud: Amplitud del movimiento.\n",
    "        - frecuencia_angular: Frecuencia angular del movimiento.\n",
    "        - fase_inicial: Fase inicial del movimiento.\n",
    "\n",
    "    Yields:\n",
    "        - Desplazamientos en el tiempo para el MAS.\n",
    "    \"\"\"\n",
    "    for tiempo in count(start=0):\n",
    "        desplazamiento = amplitud * (tiempo % (1 / frecuencia_angular)) * 2 - amplitud\n",
    "        yield desplazamiento\n",
    "\n",
    "\n",
    "amplitud_mas = 1.0\n",
    "frecuencia_angular_mas = 0.1\n",
    "fase_inicial_mas = 0.0\n",
    "\n",
    "\n",
    "generador_mas = movimiento_armo_simple(amplitud_mas, frecuencia_angular_mas, fase_inicial_mas)\n",
    "\n",
    "\n",
    "num_puntos = 10\n",
    "for _ in range(num_puntos):\n",
    "    desplazamiento = next(generador_mas)\n",
    "    print(desplazamiento)\n"
   ]
  }
 ],
 "metadata": {
  "kernelspec": {
   "display_name": "Python 3",
   "language": "python",
   "name": "python3"
  },
  "language_info": {
   "codemirror_mode": {
    "name": "ipython",
    "version": 3
   },
   "file_extension": ".py",
   "mimetype": "text/x-python",
   "name": "python",
   "nbconvert_exporter": "python",
   "pygments_lexer": "ipython3",
   "version": "3.12.0"
  }
 },
 "nbformat": 4,
 "nbformat_minor": 2
}
